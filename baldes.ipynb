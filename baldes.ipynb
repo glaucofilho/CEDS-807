{
 "cells": [
  {
   "cell_type": "markdown",
   "metadata": {},
   "source": [
    "# Problema dos Baldes\n",
    "### CEDS - 807\n",
    "\n",
    "Grupo: Bruno, Glauco, Leandro, Valmir."
   ]
  },
  {
   "cell_type": "code",
   "execution_count": 7,
   "metadata": {},
   "outputs": [],
   "source": [
    "# Importando as bibliotecas necessárias.\n",
    "import numpy as np\n",
    "import pandas as pd\n",
    "import matplotlib.pyplot as plt\n",
    "import statsmodels.api as sm"
   ]
  },
  {
   "cell_type": "markdown",
   "metadata": {},
   "source": [
    "### 1. Objetivo \n",
    "\n",
    "A partir dos 2 baldes inicialmente vazios obter o balde menor (capacidade de 3L) com apenas 2L."
   ]
  },
  {
   "cell_type": "markdown",
   "metadata": {},
   "source": [
    "### 2. Enunciado do Problemas\n",
    "Dados dois baldes com capacidades 4L e 3L respectivamente.\n",
    "\n",
    "Podemos encher completamente ou esvaziar cada um dos baldes.\n",
    "\n",
    "Podemos derramar o conteúdo de um dos baldes no outro.\n",
    "\n",
    "Com os baldes inicialmente vazios, como faço para obter uma medida de 2l no balde menor?"
   ]
  },
  {
   "cell_type": "markdown",
   "metadata": {},
   "source": [
    "### 3. Espaço de Estados\n",
    "\n",
    "O espaço de estados desse problema consiste em todas as possíveis configurações que podem ser obtidas pelos 2 baldes.\n",
    "\n",
    "Ao todo temos 13 configurações possíveis.\n",
    "\n",
    "Abaixo temos o mapeamento de todos o espaço de estados."
   ]
  },
  {
   "cell_type": "code",
   "execution_count": 18,
   "metadata": {},
   "outputs": [
    {
     "name": "stdout",
     "output_type": "stream",
     "text": [
      "Espaço de Estados:\n",
      "[(0, 1), (4, 0), (0, 0), (4, 1), (0, 3), (2, 0), (4, 2), (3, 0), (2, 3), (0, 2), (3, 3), (1, 0), (1, 3)]\n",
      "Quantidade de estados possíveis:\n",
      "13\n"
     ]
    }
   ],
   "source": [
    "solution = graph_search(Glasses(), DFS)\n",
    "\n",
    "espaco_estados = []\n",
    "for i in solution:\n",
    "    for j in i:\n",
    "        a = j.state[0]\n",
    "        b = j.state[1]\n",
    "        espaco_estados.append((a, b))  # Convertendo para tupla\n",
    "\n",
    "espaco_estados = list(set(espaco_estados))\n",
    "\n",
    "print(\"Espaço de Estados:\")\n",
    "print(espaco_estados)\n",
    "print(\"Quantidade de estados possíveis:\")\n",
    "print(len(espaco_estados))\n"
   ]
  },
  {
   "cell_type": "markdown",
   "metadata": {},
   "source": [
    "### 4. Estado Inicial\n",
    "\n",
    "O estado inicial corresponde a ambos os baldes vazios, ou seja: [0,0]."
   ]
  },
  {
   "cell_type": "markdown",
   "metadata": {},
   "source": [
    "### 5. Estado Objetivo\n",
    "\n",
    "O estado objetivo é aquele em que temos o segundo balde com apenas 2L. Sendo assim podemos defini-lo como: [*,2], em que * indica qualquer quantia.\n",
    "\n",
    "Abaixo temos todas as opções listadas. Entretanto note que devemos encontrar qual delas é obtida com o menor custo."
   ]
  },
  {
   "cell_type": "code",
   "execution_count": 19,
   "metadata": {},
   "outputs": [
    {
     "name": "stdout",
     "output_type": "stream",
     "text": [
      "Tuplas com segundo elemento igual a 2: [(4, 2), (0, 2)]\n"
     ]
    }
   ],
   "source": [
    "possibilidades_estado_objetivo = [(a, b) for a, b in espaco_estados if b == 2]\n",
    "\n",
    "print(f\"Tuplas com segundo elemento igual a 2: {possibilidades_estado_objetivo}\")"
   ]
  },
  {
   "cell_type": "markdown",
   "metadata": {},
   "source": [
    "### 6. Ações Disponíveis\n",
    "\n",
    "As ações disponíveis são as de encher um balde, esvaziar um balde e transferir o conteúdo de um balde para o outro.\n",
    "\n",
    "Abaixo criamos uma classe para cada uma das operações possíveis."
   ]
  },
  {
   "cell_type": "code",
   "execution_count": 11,
   "metadata": {},
   "outputs": [],
   "source": [
    "class Operacoes:\n",
    "\n",
    "  def __init__(self): # (a,b) são os estados iniciais dos baldes.\n",
    "    self.balde4L = 0 # Definindo estado inicial de a como 0.\n",
    "    self.balde3L = 0 # Definindo estado inicial de b como 0.\n",
    "  \n",
    "  def esvazia4(self, a, b): #Faz o balde de 4L ficar vazio.\n",
    "    self.balde4L = 0 # Esvazia o balde de 4L.\n",
    "    self.balde3L = b # Mantém o valor do balde de 3L.\n",
    "\n",
    "  def esvazia3(self, a, b): #Faz o balde de 3L ficar vazio.\n",
    "    self.balde4L = a # Mantém o valor do balde de 4L.\n",
    "    self.balde3L = 0 # Esvazia o balde de 3L.\n",
    "\n",
    "  def enche4(self, a, b): #Faz o balde de 4L ficar cheio.\n",
    "    self.balde4L = 4 # Enche o balde de 4L.\n",
    "    self.balde3L = b # Mantém o valor do balde de 3L.\n",
    "\n",
    "  def enche3(self, a, b): #Faz o balde de 3L ficar vazio.\n",
    "    self.balde4L = a # Mantém o valor do balde de 4L.\n",
    "    self.balde3L = 3 # Enche o balde de 3L.\n",
    "\n",
    "  def transfere4to3(self, a, b): #Transfere o conteúdo do balde de 4L para o balde de 3L até o limite do balde de 3L.\n",
    "    valor_transferencia = min(a, 3 - b) #Valor mínimo entre o espaço vazio no balde 3L e o valor atual do balde de 4L.\n",
    "    self.balde4L = (a - valor_transferencia) # Valor do balde 4L menos o valor de transferência.\n",
    "    self.balde3L = (b + valor_transferencia) # Valor do balde de 3L mais o valor de transferência.    \n",
    "\n",
    "  def transfere3to4(self, a, b): #Transfere o conteúdo do balde de 3L para o balde de 4L até o limite do balde de 4L.\n",
    "    valor_transferencia = min(4- a, b) #Valor mínimo entre o espaço vazio no balde 4L e o valor atual do balde de 3L.\n",
    "    self.balde4L = (a + valor_transferencia) # Valor do balde 4L mais o valor de transferência.\n",
    "    self.balde3L = (b - valor_transferencia) # Valor do balde de 3L menos o valor de transferência. "
   ]
  },
  {
   "cell_type": "code",
   "execution_count": 12,
   "metadata": {},
   "outputs": [
    {
     "name": "stdout",
     "output_type": "stream",
     "text": [
      "Exemplo 1: Conteúdo inicial: [2,3]\n",
      "Operação: Transferir do balde de 3L para o balde de 4L.\n",
      "Conteúdo do balde de 4L após transferência: 4\n",
      "Conteúdo do balde de 3L após transferência: 1\n",
      "\n",
      "\n",
      "Exemplo 2: Conteúdo inicial: [3,1]\n",
      "Operação: Transferir do balde de 4L para o balde de 3L.\n",
      "Conteúdo do balde de 4L após transferência: 4\n",
      "Conteúdo do balde de 3L após transferência: 0\n"
     ]
    }
   ],
   "source": [
    "#Exemplos de operações\n",
    "\n",
    "#Balde de 4L contendo 2L e Balde de 3L contendo 3L. Operação: Transferir do balde de 3L para o balde de 4L.\n",
    "exemplo1 = Operacoes()\n",
    "exemplo1.transfere3to4(2,3)\n",
    "print(\"Exemplo 1: Conteúdo inicial: [2,3]\")\n",
    "print(\"Operação: Transferir do balde de 3L para o balde de 4L.\")\n",
    "print(f\"Conteúdo do balde de 4L após transferência: {exemplo1.balde4L}\")\n",
    "print(f\"Conteúdo do balde de 3L após transferência: {exemplo1.balde3L}\")\n",
    "\n",
    "print(\"\\n\")\n",
    "\n",
    "#Balde de 4L contendo 4L e Balde de 3L contendo 1L. Operação: Transferir do balde de 4L para o balde de 3L.\n",
    "exemplo2 = Operacoes()\n",
    "exemplo2.transfere3to4(3,1)\n",
    "print(\"Exemplo 2: Conteúdo inicial: [3,1]\")\n",
    "print(\"Operação: Transferir do balde de 4L para o balde de 3L.\")\n",
    "print(f\"Conteúdo do balde de 4L após transferência: {exemplo2.balde4L}\")\n",
    "print(f\"Conteúdo do balde de 3L após transferência: {exemplo2.balde3L}\")\n"
   ]
  },
  {
   "cell_type": "markdown",
   "metadata": {},
   "source": [
    "### 6. Criação da classe de busca em um grafo."
   ]
  },
  {
   "cell_type": "code",
   "execution_count": 14,
   "metadata": {},
   "outputs": [],
   "source": [
    "# Basic graph search\n",
    "# good when the search space has cycles\n",
    "\n",
    "def graph_search(node, Frontier):\n",
    "\n",
    "  # Initializes the Frontier with the initial state\n",
    "  open_list = Frontier( [node] )\n",
    "\n",
    "  # NEW: Initializes explored set with empty\n",
    "  closed_list = []\n",
    "\n",
    "  # Repeat while there are elements in the Frontier\n",
    "  while not open_list.is_empty():\n",
    "\n",
    "    # choose a leaf node of the search tree from the Frontier and remove\n",
    "    x = open_list.pop()\n",
    "\n",
    "    # check if state is goal, if true return solution\n",
    "    if x.is_goal(): yield x.solution()\n",
    "\n",
    "    #  NEW: Add the node to the explored set\n",
    "    closed_list.append(x)\n",
    "\n",
    "    # expand the selected node, adding children to the Frontier\n",
    "    children = x.get_children()\n",
    "    for y in children:\n",
    "\n",
    "      # for non-admissible search, we should check if the new node has\n",
    "      # a state that is already in the open list and update cost and parent\n",
    "      # for admissible search this test should be made when removing the node\n",
    "\n",
    "      # for admissible search we should reject visited states\n",
    "      # for non-admissible search we should check the if the cost improved\n",
    "\n",
    "      reject = False\n",
    "\n",
    "      for n in closed_list:\n",
    "        if n.same_state(y):\n",
    "          reject = True\n",
    "          break\n",
    "#           if n.g <= y.g:\n",
    "#             reject=True\n",
    "#             break\n",
    "\n",
    "      if not reject:\n",
    "        open_list.push(y)\n",
    "\n",
    "  # if the Frontier is empty, fail\n",
    "  return []"
   ]
  },
  {
   "cell_type": "markdown",
   "metadata": {},
   "source": [
    "### 7. Criação da classe Stack (pilha)."
   ]
  },
  {
   "cell_type": "code",
   "execution_count": 15,
   "metadata": {},
   "outputs": [],
   "source": [
    "class Stack:\n",
    "  def __init__(self,data):\n",
    "    self.data = data\n",
    "\n",
    "  def is_empty(self):\n",
    "    return len(self.data) == 0\n",
    "\n",
    "  def pop(self):\n",
    "    # reads and removes last element\n",
    "    x=self.data[-1]\n",
    "    del self.data[-1]\n",
    "    return x\n",
    "\n",
    "  def push(self, element):\n",
    "    self.data.append(element)\n",
    "\n",
    "DFS = Stack"
   ]
  },
  {
   "cell_type": "markdown",
   "metadata": {},
   "source": [
    "### 8. Modelagem do problema."
   ]
  },
  {
   "cell_type": "code",
   "execution_count": 16,
   "metadata": {},
   "outputs": [],
   "source": [
    "# Inicializando uma lista vazia.\n",
    "full_graph=[]\n",
    "\n",
    "class Glasses: # Definindo a classe Glasses que representa o estado do problema.\n",
    "  \n",
    "  # Método inicializador da classe.\n",
    "  def __init__(self):\n",
    "    self.state = [0,0] # Representa o estado inicial dos recipientes, nos quais [x, y] são as quantidades de água nos baldes, sendo x o primeiro balde e y o segundo.\n",
    "    self.parent = None # Representa o nó pai na árvore de busca. Inicialmente, nenhum pai é definido.\n",
    "    self.g = 0 # Representa o custo acumulado da raiz até o nó atual da árvore de busca. Inicialmente o custo acumulado é zero.\n",
    "\n",
    "  # Definindo o estado objetivo do problema.\n",
    "  def is_goal(self):\n",
    "    return self.state[1] == 2\n",
    "\n",
    "  # Método chamado get_children que gera e retorna os possíveis estados alcançáveis a partir do estado atual.\n",
    "  def get_children(self):\n",
    "    \n",
    "    ch = [] # Inicializa uma lista vazia chamada ch para armazenar os nós filhos gerados\n",
    "    x = self.state[0] # Quantidade de água no balde x (primeiro balde).\n",
    "    y = self.state[1] # Quantidade de água no balde y (segundo balde).\n",
    "    \n",
    "    if x < 4: # Verifica se a quantidade de água no primeiro balde (x), com capacidade de 4L, é menor que 4.\n",
    "      newstate = [4, y] # Se a condição for verdadeira, cria um novo estado onde o primeiro balde está cheio (4L) e o segundo balde permanece com a mesma quantidade.\n",
    "      newnode = Glasses() # Cria um novo objeto da classe Glasses para representar o novo estado.\n",
    "      newnode.state = newstate # Atribui o novo estado ao objeto recém-criado.\n",
    "      newnode.parent = self # Define o nó pai como o estado atual.\n",
    "      newnode.g = self.g+1 # Define o custo acumulado para alcançar este novo estado como o custo acumulado do estado atual mais 1.\n",
    "      ch.append(newnode) # Adiciona o novo nó à lista de nós filhos gerados.\n",
    "      full_graph.append('%d%d -> %d%d [label=\"%s\"]'%(x,y,4,y,\"F4\")) # Adiciona uma entrada à lista 'full_graph' representando a transição do estado atual para o novo estado, com um rótulo indicando o preenchimento do balde para 4L.\n",
    "    \n",
    "    if y < 3: # can fill y\n",
    "      newstate = [x,3]\n",
    "      newnode = Glasses()\n",
    "      newnode.state = newstate\n",
    "      newnode.parent = self\n",
    "      newnode.g = self.g+1\n",
    "      ch.append(newnode)\n",
    "      full_graph.append('%d%d -> %d%d [label=\"%s\"]'%(x,y,3,y,\"F3\"))\n",
    "    \n",
    "    if x > 0: # can empty x\n",
    "      newstate = [0,y]\n",
    "      newnode = Glasses()\n",
    "      newnode.state = newstate\n",
    "      newnode.parent = self\n",
    "      newnode.g = self.g+1\n",
    "      ch.append(newnode)\n",
    "      full_graph.append('%d%d -> %d%d [label=\"%s\"]'%(x,y,0,y,\"E4\"))\n",
    "    \n",
    "    if y > 0: # can empty y\n",
    "      newstate = [x,0]\n",
    "      newnode = Glasses()\n",
    "      newnode.state = newstate\n",
    "      newnode.parent = self\n",
    "      newnode.g = self.g+1\n",
    "      ch.append(newnode)\n",
    "      full_graph.append('%d%d -> %d%d [label=\"%s\"]'%(x,y,x,0,\"E3\"))\n",
    "    \n",
    "    if x > 0 and y < 3: # can xtoy\n",
    "      t = min(x,3-y)\n",
    "      newstate = [x-t, y+t]\n",
    "      newnode = Glasses()\n",
    "      newnode.state = newstate\n",
    "      newnode.parent = self\n",
    "      newnode.g = self.g+1\n",
    "      ch.append(newnode)\n",
    "      full_graph.append('%d%d -> %d%d [label=\"%s\"]'%(x,y,x-t,y+t,\"4to3\"))\n",
    "    \n",
    "    if x < 4 and y > 0: # can ytox\n",
    "      t = min(y,4-x)\n",
    "      newstate = [x+t, y-t]\n",
    "      newnode = Glasses()\n",
    "      newnode.state = newstate\n",
    "      newnode.parent = self\n",
    "      newnode.g = self.g+1\n",
    "      ch.append(newnode)\n",
    "      full_graph.append('%d%d -> %d%d [label=\"%s\"]'%(x,y,x+t,y-t,\"3to4\"))\n",
    "    \n",
    "    return ch\n",
    "\n",
    "  # Método que retorna a solução do problema, representada como uma lista de estados.\n",
    "  def solution(self):\n",
    "    sol = [self] # Inicializa uma lista chamada 'sol' com o estado atual como primeiro elemento.\n",
    "    p = self.parent # Obtém o nó pai do estado atual.\n",
    "    while p: # Enquanto houver um nó pai (enquanto não atingir o estado raiz):\n",
    "      sol.append(p) # Adiciona o nó pai à lista 'sol'\n",
    "      p = p.parent # Move para o próximo nó pai na árvore, continuando a busca pela raiz.\n",
    "    sol.reverse() # Inverte a ordem dos elementos na lista 'sol' para obter a sequência do estado raiz ao estado atual.\n",
    "    return sol # Retorna a lista que representa a sequência de estados da solução.\n",
    "\n",
    "  # Método de comparação \"menor que\" utilizado para ordenação de instâncias com base no custo acumulado 'g'.\n",
    "  def __lt__(self, other):\n",
    "    return self.g < other.g # Retorna verdadeiro se o custo acumulado do estado atual for menor que o custo acumulado do outro estado.\n",
    "\n",
    "  # Método que verifica se o estado atual é o mesmo que outro estado.\n",
    "  def same_state(self, other):\n",
    "    return self.state == other.state # Retorna verdadeiro se os estados (quantidades de água nos baldes) forem idênticos.\n",
    "\n",
    "  # Método que exibe o estado atual.\n",
    "  def display(self):\n",
    "    print(str(self.state),end=\"\") # Imprime a representação do estado como uma string, sem adicionar uma nova linha.\n"
   ]
  },
  {
   "cell_type": "code",
   "execution_count": 17,
   "metadata": {},
   "outputs": [
    {
     "name": "stdout",
     "output_type": "stream",
     "text": [
      "[0, 0][0, 3][3, 0][3, 3][4, 2]\n",
      "[0, 0][0, 3][3, 0][3, 3][4, 2][4, 0][1, 3][1, 0][0, 1][4, 1][2, 3][2, 0][0, 2]\n",
      "[0, 0][0, 3][3, 0][3, 3][4, 2][0, 2]\n"
     ]
    }
   ],
   "source": [
    "# Test graph search\n",
    "\n",
    "solution = graph_search(Glasses(), DFS)\n",
    "\n",
    "for x in solution:\n",
    "  for y in x:\n",
    "    y.display()\n",
    "  print(\"\")"
   ]
  },
  {
   "cell_type": "markdown",
   "metadata": {},
   "source": [
    "Observando o resultado obtido pela função graph_search percebemos que a solução mais rápida para o problema é:\n",
    "\n",
    "[0,0] -> [0,3] -> [3,0] -> [3,3] -> [4,2]\n",
    "\n",
    "Com um custo acumulado de 4 etapas."
   ]
  }
 ],
 "metadata": {
  "kernelspec": {
   "display_name": "Python 3",
   "language": "python",
   "name": "python3"
  },
  "language_info": {
   "codemirror_mode": {
    "name": "ipython",
    "version": 3
   },
   "file_extension": ".py",
   "mimetype": "text/x-python",
   "name": "python",
   "nbconvert_exporter": "python",
   "pygments_lexer": "ipython3",
   "version": "3.11.1"
  },
  "orig_nbformat": 4
 },
 "nbformat": 4,
 "nbformat_minor": 2
}
