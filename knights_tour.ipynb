{
 "cells": [
  {
   "cell_type": "markdown",
   "metadata": {},
   "source": [
    "# <a id=\"inicio\"></a> Knight's Tour\n",
    "\n",
    "-----\n",
    "\n",
    "### **Autores:** Glauco, \n",
    "\n",
    "-----"
   ]
  },
  {
   "cell_type": "markdown",
   "metadata": {},
   "source": [
    "## <a id=\"resumo\"></a> Resumo "
   ]
  },
  {
   "cell_type": "markdown",
   "metadata": {},
   "source": [
    "Este relatório descreve uma modelagem do famoso problema do \"Knight's Tour\". O problema envolve movimentar um cavalo em um tabuleiro de xadrez, garantindo que o cavalo visite cada quadrado uma única vez."
   ]
  },
  {
   "cell_type": "markdown",
   "metadata": {},
   "source": [
    "## <a id=\"sumario\"></a> Sumário"
   ]
  },
  {
   "cell_type": "markdown",
   "metadata": {},
   "source": [
    "\n",
    "* [Início](#inicio)\n",
    "* [Resumo](#resumo)\n",
    "* [Sumário](#sumario)\n",
    "* [Espaço de Estado](#espaco_estado)\n",
    "* [Estados Iniciais](#estados_iniciais)\n",
    "* [Estado Objetivo](#estado_objetivo)\n"
   ]
  },
  {
   "cell_type": "markdown",
   "metadata": {},
   "source": [
    "## <a id=\"espaco_estado\"></a> Espaço de Estado"
   ]
  },
  {
   "cell_type": "markdown",
   "metadata": {},
   "source": [
    "O espaço de estado para esse problema consiste em representar todas as possíveis configurações do tabuleiro de xadrez conforme o cavalo se move de um quadrado para outro.\n",
    "\n",
    "Por se tratar de um tabuleiro de xadrez 8x8, um estado possível do espaço de estado pode ser representado como:"
   ]
  },
  {
   "cell_type": "code",
   "execution_count": 37,
   "metadata": {},
   "outputs": [
    {
     "name": "stdout",
     "output_type": "stream",
     "text": [
      "[[0 0 0 1 0 0 0 0]\n",
      " [0 0 0 0 0 0 0 0]\n",
      " [0 0 1 0 0 0 0 0]\n",
      " [0 0 0 0 0 0 0 0]\n",
      " [0 0 0 0 0 0 0 0]\n",
      " [0 0 0 0 0 0 0 0]\n",
      " [0 0 0 0 0 0 0 0]\n",
      " [0 0 0 0 0 0 0 0]]\n"
     ]
    }
   ],
   "source": [
    "import numpy as np\n",
    "tabuleiro = np.zeros((8, 8), dtype=int)\n",
    "tabuleiro[0][3] = 1\n",
    "tabuleiro[2][2] = 1\n",
    "print(tabuleiro)"
   ]
  },
  {
   "cell_type": "markdown",
   "metadata": {},
   "source": [
    "Nesse caso o cavalo estava ocupando a quarta coluna da primeira linha e depois parou na terceira coluna da terceira linha.\n",
    "\n",
    "O número total de possíveis valores no espaço de estado para o problema pode ser calculado por 2 elevado a 64 (8x8), sendo igual a 1.8446744e+19 estados. Logo seria inviável listar todos seus valores."
   ]
  },
  {
   "cell_type": "markdown",
   "metadata": {},
   "source": [
    "## <a id=\"estados_iniciais\"></a> Estados Iniciais"
   ]
  },
  {
   "cell_type": "markdown",
   "metadata": {},
   "source": [
    "Os estados iniciais para esse problema pode ser qualquer uma das 64 casas disponíveis no tabuleiro. De forma a automatizar isso foi criada uma função que inicializa um tabuleiro com o estado inicial fornecido pelo usuário. Também foi criada uma função para printar de forma agradável o tabuleiro."
   ]
  },
  {
   "cell_type": "code",
   "execution_count": 38,
   "metadata": {},
   "outputs": [],
   "source": [
    "from tabulate import tabulate\n",
    "from colorama import Fore, Style\n",
    "\n",
    "\n",
    "def inicializa_tabuleiro(linha, coluna):\n",
    "    tabuleiro = np.zeros((8, 8), dtype=int)\n",
    "    tabuleiro[linha][coluna] = 1\n",
    "    return tabuleiro\n",
    "\n",
    "\n",
    "def print_tabuleiro(tabuleiro):\n",
    "    headers = [f\"Coluna {col}\" for col in range(len(tabuleiro[0]))]\n",
    "    rows = [[f\"Linha {i}\"] + [str(cell) for cell in row] for i, row in enumerate(tabuleiro)]\n",
    "    for row in rows:\n",
    "        for j, cell in enumerate(row):\n",
    "            if cell == '1':\n",
    "                row[j] = f\"{Fore.GREEN}{cell}{Style.RESET_ALL}\"\n",
    "            if cell == '0':\n",
    "                row[j] = f\"{Fore.RED}{cell}{Style.RESET_ALL}\"\n",
    "    print(tabulate(rows, headers=headers, tablefmt=\"grid\"))"
   ]
  },
  {
   "cell_type": "code",
   "execution_count": 39,
   "metadata": {},
   "outputs": [
    {
     "name": "stdout",
     "output_type": "stream",
     "text": [
      "Estado inicial exemplo 1\n",
      "+---------+------------+------------+------------+------------+------------+------------+------------+------------+\n",
      "|         |   Coluna 0 |   Coluna 1 |   Coluna 2 |   Coluna 3 |   Coluna 4 |   Coluna 5 |   Coluna 6 |   Coluna 7 |\n",
      "+=========+============+============+============+============+============+============+============+============+\n",
      "| Linha 0 |          \u001b[31m0\u001b[0m |          \u001b[31m0\u001b[0m |          \u001b[31m0\u001b[0m |          \u001b[31m0\u001b[0m |          \u001b[31m0\u001b[0m |          \u001b[31m0\u001b[0m |          \u001b[31m0\u001b[0m |          \u001b[31m0\u001b[0m |\n",
      "+---------+------------+------------+------------+------------+------------+------------+------------+------------+\n",
      "| Linha 1 |          \u001b[31m0\u001b[0m |          \u001b[31m0\u001b[0m |          \u001b[31m0\u001b[0m |          \u001b[31m0\u001b[0m |          \u001b[31m0\u001b[0m |          \u001b[31m0\u001b[0m |          \u001b[31m0\u001b[0m |          \u001b[31m0\u001b[0m |\n",
      "+---------+------------+------------+------------+------------+------------+------------+------------+------------+\n",
      "| Linha 2 |          \u001b[31m0\u001b[0m |          \u001b[31m0\u001b[0m |          \u001b[32m1\u001b[0m |          \u001b[31m0\u001b[0m |          \u001b[31m0\u001b[0m |          \u001b[31m0\u001b[0m |          \u001b[31m0\u001b[0m |          \u001b[31m0\u001b[0m |\n",
      "+---------+------------+------------+------------+------------+------------+------------+------------+------------+\n",
      "| Linha 3 |          \u001b[31m0\u001b[0m |          \u001b[31m0\u001b[0m |          \u001b[31m0\u001b[0m |          \u001b[31m0\u001b[0m |          \u001b[31m0\u001b[0m |          \u001b[31m0\u001b[0m |          \u001b[31m0\u001b[0m |          \u001b[31m0\u001b[0m |\n",
      "+---------+------------+------------+------------+------------+------------+------------+------------+------------+\n",
      "| Linha 4 |          \u001b[31m0\u001b[0m |          \u001b[31m0\u001b[0m |          \u001b[31m0\u001b[0m |          \u001b[31m0\u001b[0m |          \u001b[31m0\u001b[0m |          \u001b[31m0\u001b[0m |          \u001b[31m0\u001b[0m |          \u001b[31m0\u001b[0m |\n",
      "+---------+------------+------------+------------+------------+------------+------------+------------+------------+\n",
      "| Linha 5 |          \u001b[31m0\u001b[0m |          \u001b[31m0\u001b[0m |          \u001b[31m0\u001b[0m |          \u001b[31m0\u001b[0m |          \u001b[31m0\u001b[0m |          \u001b[31m0\u001b[0m |          \u001b[31m0\u001b[0m |          \u001b[31m0\u001b[0m |\n",
      "+---------+------------+------------+------------+------------+------------+------------+------------+------------+\n",
      "| Linha 6 |          \u001b[31m0\u001b[0m |          \u001b[31m0\u001b[0m |          \u001b[31m0\u001b[0m |          \u001b[31m0\u001b[0m |          \u001b[31m0\u001b[0m |          \u001b[31m0\u001b[0m |          \u001b[31m0\u001b[0m |          \u001b[31m0\u001b[0m |\n",
      "+---------+------------+------------+------------+------------+------------+------------+------------+------------+\n",
      "| Linha 7 |          \u001b[31m0\u001b[0m |          \u001b[31m0\u001b[0m |          \u001b[31m0\u001b[0m |          \u001b[31m0\u001b[0m |          \u001b[31m0\u001b[0m |          \u001b[31m0\u001b[0m |          \u001b[31m0\u001b[0m |          \u001b[31m0\u001b[0m |\n",
      "+---------+------------+------------+------------+------------+------------+------------+------------+------------+\n"
     ]
    }
   ],
   "source": [
    "tabuleiro_inicial = inicializa_tabuleiro(2,2)\n",
    "print(\"Estado inicial exemplo 1\")\n",
    "print_tabuleiro(tabuleiro_inicial)"
   ]
  },
  {
   "cell_type": "code",
   "execution_count": 40,
   "metadata": {},
   "outputs": [
    {
     "name": "stdout",
     "output_type": "stream",
     "text": [
      "Estado inicial exemplo 2\n",
      "+---------+------------+------------+------------+------------+------------+------------+------------+------------+\n",
      "|         |   Coluna 0 |   Coluna 1 |   Coluna 2 |   Coluna 3 |   Coluna 4 |   Coluna 5 |   Coluna 6 |   Coluna 7 |\n",
      "+=========+============+============+============+============+============+============+============+============+\n",
      "| Linha 0 |          \u001b[31m0\u001b[0m |          \u001b[31m0\u001b[0m |          \u001b[31m0\u001b[0m |          \u001b[31m0\u001b[0m |          \u001b[31m0\u001b[0m |          \u001b[31m0\u001b[0m |          \u001b[31m0\u001b[0m |          \u001b[31m0\u001b[0m |\n",
      "+---------+------------+------------+------------+------------+------------+------------+------------+------------+\n",
      "| Linha 1 |          \u001b[31m0\u001b[0m |          \u001b[31m0\u001b[0m |          \u001b[31m0\u001b[0m |          \u001b[31m0\u001b[0m |          \u001b[31m0\u001b[0m |          \u001b[31m0\u001b[0m |          \u001b[31m0\u001b[0m |          \u001b[31m0\u001b[0m |\n",
      "+---------+------------+------------+------------+------------+------------+------------+------------+------------+\n",
      "| Linha 2 |          \u001b[31m0\u001b[0m |          \u001b[31m0\u001b[0m |          \u001b[31m0\u001b[0m |          \u001b[31m0\u001b[0m |          \u001b[31m0\u001b[0m |          \u001b[31m0\u001b[0m |          \u001b[31m0\u001b[0m |          \u001b[31m0\u001b[0m |\n",
      "+---------+------------+------------+------------+------------+------------+------------+------------+------------+\n",
      "| Linha 3 |          \u001b[31m0\u001b[0m |          \u001b[31m0\u001b[0m |          \u001b[31m0\u001b[0m |          \u001b[31m0\u001b[0m |          \u001b[31m0\u001b[0m |          \u001b[31m0\u001b[0m |          \u001b[31m0\u001b[0m |          \u001b[31m0\u001b[0m |\n",
      "+---------+------------+------------+------------+------------+------------+------------+------------+------------+\n",
      "| Linha 4 |          \u001b[31m0\u001b[0m |          \u001b[31m0\u001b[0m |          \u001b[31m0\u001b[0m |          \u001b[31m0\u001b[0m |          \u001b[31m0\u001b[0m |          \u001b[31m0\u001b[0m |          \u001b[31m0\u001b[0m |          \u001b[31m0\u001b[0m |\n",
      "+---------+------------+------------+------------+------------+------------+------------+------------+------------+\n",
      "| Linha 5 |          \u001b[31m0\u001b[0m |          \u001b[31m0\u001b[0m |          \u001b[31m0\u001b[0m |          \u001b[31m0\u001b[0m |          \u001b[31m0\u001b[0m |          \u001b[31m0\u001b[0m |          \u001b[32m1\u001b[0m |          \u001b[31m0\u001b[0m |\n",
      "+---------+------------+------------+------------+------------+------------+------------+------------+------------+\n",
      "| Linha 6 |          \u001b[31m0\u001b[0m |          \u001b[31m0\u001b[0m |          \u001b[31m0\u001b[0m |          \u001b[31m0\u001b[0m |          \u001b[31m0\u001b[0m |          \u001b[31m0\u001b[0m |          \u001b[31m0\u001b[0m |          \u001b[31m0\u001b[0m |\n",
      "+---------+------------+------------+------------+------------+------------+------------+------------+------------+\n",
      "| Linha 7 |          \u001b[31m0\u001b[0m |          \u001b[31m0\u001b[0m |          \u001b[31m0\u001b[0m |          \u001b[31m0\u001b[0m |          \u001b[31m0\u001b[0m |          \u001b[31m0\u001b[0m |          \u001b[31m0\u001b[0m |          \u001b[31m0\u001b[0m |\n",
      "+---------+------------+------------+------------+------------+------------+------------+------------+------------+\n"
     ]
    }
   ],
   "source": [
    "tabuleiro_inicial = inicializa_tabuleiro(5,6)\n",
    "print(\"Estado inicial exemplo 2\")\n",
    "print_tabuleiro(tabuleiro_inicial)"
   ]
  },
  {
   "cell_type": "markdown",
   "metadata": {},
   "source": [
    "## <a id=\"estado_objetivo\"></a> Estado Objetivo"
   ]
  },
  {
   "cell_type": "markdown",
   "metadata": {},
   "source": [
    "O estado objetivo é quando o cavalo já tenha passado em todas as casa uma única vez, ficando o tabuleiro da seguinte maneira."
   ]
  },
  {
   "cell_type": "code",
   "execution_count": 41,
   "metadata": {},
   "outputs": [
    {
     "name": "stdout",
     "output_type": "stream",
     "text": [
      "Estado Objetivo\n",
      "+---------+------------+------------+------------+------------+------------+------------+------------+------------+\n",
      "|         |   Coluna 0 |   Coluna 1 |   Coluna 2 |   Coluna 3 |   Coluna 4 |   Coluna 5 |   Coluna 6 |   Coluna 7 |\n",
      "+=========+============+============+============+============+============+============+============+============+\n",
      "| Linha 0 |          \u001b[32m1\u001b[0m |          \u001b[32m1\u001b[0m |          \u001b[32m1\u001b[0m |          \u001b[32m1\u001b[0m |          \u001b[32m1\u001b[0m |          \u001b[32m1\u001b[0m |          \u001b[32m1\u001b[0m |          \u001b[32m1\u001b[0m |\n",
      "+---------+------------+------------+------------+------------+------------+------------+------------+------------+\n",
      "| Linha 1 |          \u001b[32m1\u001b[0m |          \u001b[32m1\u001b[0m |          \u001b[32m1\u001b[0m |          \u001b[32m1\u001b[0m |          \u001b[32m1\u001b[0m |          \u001b[32m1\u001b[0m |          \u001b[32m1\u001b[0m |          \u001b[32m1\u001b[0m |\n",
      "+---------+------------+------------+------------+------------+------------+------------+------------+------------+\n",
      "| Linha 2 |          \u001b[32m1\u001b[0m |          \u001b[32m1\u001b[0m |          \u001b[32m1\u001b[0m |          \u001b[32m1\u001b[0m |          \u001b[32m1\u001b[0m |          \u001b[32m1\u001b[0m |          \u001b[32m1\u001b[0m |          \u001b[32m1\u001b[0m |\n",
      "+---------+------------+------------+------------+------------+------------+------------+------------+------------+\n",
      "| Linha 3 |          \u001b[32m1\u001b[0m |          \u001b[32m1\u001b[0m |          \u001b[32m1\u001b[0m |          \u001b[32m1\u001b[0m |          \u001b[32m1\u001b[0m |          \u001b[32m1\u001b[0m |          \u001b[32m1\u001b[0m |          \u001b[32m1\u001b[0m |\n",
      "+---------+------------+------------+------------+------------+------------+------------+------------+------------+\n",
      "| Linha 4 |          \u001b[32m1\u001b[0m |          \u001b[32m1\u001b[0m |          \u001b[32m1\u001b[0m |          \u001b[32m1\u001b[0m |          \u001b[32m1\u001b[0m |          \u001b[32m1\u001b[0m |          \u001b[32m1\u001b[0m |          \u001b[32m1\u001b[0m |\n",
      "+---------+------------+------------+------------+------------+------------+------------+------------+------------+\n",
      "| Linha 5 |          \u001b[32m1\u001b[0m |          \u001b[32m1\u001b[0m |          \u001b[32m1\u001b[0m |          \u001b[32m1\u001b[0m |          \u001b[32m1\u001b[0m |          \u001b[32m1\u001b[0m |          \u001b[32m1\u001b[0m |          \u001b[32m1\u001b[0m |\n",
      "+---------+------------+------------+------------+------------+------------+------------+------------+------------+\n",
      "| Linha 6 |          \u001b[32m1\u001b[0m |          \u001b[32m1\u001b[0m |          \u001b[32m1\u001b[0m |          \u001b[32m1\u001b[0m |          \u001b[32m1\u001b[0m |          \u001b[32m1\u001b[0m |          \u001b[32m1\u001b[0m |          \u001b[32m1\u001b[0m |\n",
      "+---------+------------+------------+------------+------------+------------+------------+------------+------------+\n",
      "| Linha 7 |          \u001b[32m1\u001b[0m |          \u001b[32m1\u001b[0m |          \u001b[32m1\u001b[0m |          \u001b[32m1\u001b[0m |          \u001b[32m1\u001b[0m |          \u001b[32m1\u001b[0m |          \u001b[32m1\u001b[0m |          \u001b[32m1\u001b[0m |\n",
      "+---------+------------+------------+------------+------------+------------+------------+------------+------------+\n"
     ]
    }
   ],
   "source": [
    "tabuleiro_objetivo = np.ones((8, 8), dtype=int)\n",
    "print(\"Estado Objetivo\")\n",
    "print_tabuleiro(tabuleiro_objetivo)"
   ]
  }
 ],
 "metadata": {
  "kernelspec": {
   "display_name": "venv",
   "language": "python",
   "name": "python3"
  },
  "language_info": {
   "codemirror_mode": {
    "name": "ipython",
    "version": 3
   },
   "file_extension": ".py",
   "mimetype": "text/x-python",
   "name": "python",
   "nbconvert_exporter": "python",
   "pygments_lexer": "ipython3",
   "version": "3.11.1"
  }
 },
 "nbformat": 4,
 "nbformat_minor": 2
}
