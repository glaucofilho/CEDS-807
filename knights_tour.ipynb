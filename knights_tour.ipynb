{
 "cells": [
  {
   "cell_type": "markdown",
   "metadata": {},
   "source": [
    "# <a id=\"inicio\"></a> Knight's Tour\n",
    "\n",
    "-----\n",
    "\n",
    "### **Autores:** Glauco, \n",
    "\n",
    "-----"
   ]
  },
  {
   "cell_type": "markdown",
   "metadata": {},
   "source": [
    "## <a id=\"resumo\"></a> Resumo "
   ]
  },
  {
   "cell_type": "markdown",
   "metadata": {},
   "source": [
    "Este relatório descreve uma modelagem do famoso problema do \"Knight's Tour\". O problema envolve movimentar um cavalo em um tabuleiro de xadrez, garantindo que o cavalo visite cada quadrado uma única vez."
   ]
  },
  {
   "cell_type": "markdown",
   "metadata": {},
   "source": [
    "## <a id=\"sumario\"></a> Sumário"
   ]
  },
  {
   "cell_type": "markdown",
   "metadata": {},
   "source": [
    "\n",
    "* [Início](#inicio)\n",
    "* [Resumo](#resumo)\n",
    "* [Sumário](#sumario)\n",
    "* [Espaço de Estado](#espaco_estado)\n",
    "* [Estados Iniciais](#estados_iniciais)\n",
    "* [Estado Objetivo](#estado_objetivo)\n",
    "* [Ações Disponíveis](#acoes_disp)\n",
    "* [Modelo do Problema](#modelo_problema)\n",
    "* [Resultados](#resultados)"
   ]
  },
  {
   "cell_type": "markdown",
   "metadata": {},
   "source": [
    "## <a id=\"espaco_estado\"></a> Espaço de Estado"
   ]
  },
  {
   "cell_type": "markdown",
   "metadata": {},
   "source": [
    "O espaço de estado para esse problema consiste em representar todas as possíveis configurações do tabuleiro de xadrez conforme o cavalo se move de um quadrado para outro. Casa com valor zero ainda não tiveram o cavalo na sua posição, casa com valor 1 já recebeu o cavalo uma vez.\n",
    "\n",
    "Por se tratar de um tabuleiro de xadrez, por exemplo 8x8, um estado possível do espaço de estado pode ser representado como:"
   ]
  },
  {
   "cell_type": "code",
   "execution_count": 253,
   "metadata": {},
   "outputs": [
    {
     "name": "stdout",
     "output_type": "stream",
     "text": [
      "[[0 0 0 1 0 0 0 0]\n",
      " [0 0 0 0 0 0 0 0]\n",
      " [0 0 2 0 0 0 0 0]\n",
      " [0 0 0 0 0 0 0 0]\n",
      " [0 0 0 0 0 0 0 0]\n",
      " [0 0 0 0 0 0 0 0]\n",
      " [0 0 0 0 0 0 0 0]\n",
      " [0 0 0 0 0 0 0 0]]\n"
     ]
    }
   ],
   "source": [
    "import numpy as np\n",
    "tabuleiro = np.zeros((8, 8), dtype=int)\n",
    "tabuleiro[0][3] = 1\n",
    "tabuleiro[2][2] = 2\n",
    "print(tabuleiro)"
   ]
  },
  {
   "cell_type": "markdown",
   "metadata": {},
   "source": [
    "Nesse caso o cavalo estava ocupando a quarta coluna da primeira linha e depois parou na terceira coluna da terceira linha.\n",
    "\n",
    "O número total de possíveis valores no espaço de estado para o problema pode ser calculado por 2 elevado a 64 (8x8), sendo igual a 1.8446744e+19 estados. Logo seria inviável listar todos seus valores."
   ]
  },
  {
   "cell_type": "markdown",
   "metadata": {},
   "source": [
    "## <a id=\"estados_iniciais\"></a> Estados Iniciais"
   ]
  },
  {
   "cell_type": "markdown",
   "metadata": {},
   "source": [
    "Os estados iniciais para esse problema pode ser qualquer uma das 64 casas disponíveis no tabuleiro de exemplo. De forma a automatizar isso foi criada uma função que inicializa um tabuleiro com o estado inicial e tamanho fornecido pelo usuário. Também foi criada uma função para printar de forma agradável o tabuleiro."
   ]
  },
  {
   "cell_type": "code",
   "execution_count": 254,
   "metadata": {},
   "outputs": [],
   "source": [
    "from tabulate import tabulate\n",
    "from colorama import Fore, Style\n",
    "\n",
    "\n",
    "def inicializa_tabuleiro(linha, coluna, tamanho=8):\n",
    "    tabuleiro = np.zeros((tamanho, tamanho), dtype=int)\n",
    "    tabuleiro[linha][coluna] = 1\n",
    "    return tabuleiro\n",
    "\n",
    "\n",
    "def print_tabuleiro(tabuleiro):\n",
    "    headers = [f\"Coluna {col}\" for col in range(len(tabuleiro[0]))]\n",
    "    rows = [[f\"Linha {i}\"] + [str(cell) for cell in row] for i, row in enumerate(tabuleiro)]\n",
    "    for row in rows:\n",
    "        for j, cell in enumerate(row):\n",
    "            if cell > '0' and j > 0:\n",
    "                row[j] = f\"{Fore.GREEN}{cell}{Style.RESET_ALL}\"\n",
    "            if cell == '0':\n",
    "                row[j] = f\"{Fore.RED}{cell}{Style.RESET_ALL}\"\n",
    "    print(tabulate(rows, headers=headers, tablefmt=\"grid\"))"
   ]
  },
  {
   "cell_type": "code",
   "execution_count": 255,
   "metadata": {},
   "outputs": [
    {
     "name": "stdout",
     "output_type": "stream",
     "text": [
      "Estado inicial exemplo 1\n",
      "+---------+------------+------------+------------+------------+------------+------------+------------+------------+\n",
      "|         |   Coluna 0 |   Coluna 1 |   Coluna 2 |   Coluna 3 |   Coluna 4 |   Coluna 5 |   Coluna 6 |   Coluna 7 |\n",
      "+=========+============+============+============+============+============+============+============+============+\n",
      "| Linha 0 |          \u001b[31m0\u001b[0m |          \u001b[31m0\u001b[0m |          \u001b[31m0\u001b[0m |          \u001b[31m0\u001b[0m |          \u001b[31m0\u001b[0m |          \u001b[31m0\u001b[0m |          \u001b[31m0\u001b[0m |          \u001b[31m0\u001b[0m |\n",
      "+---------+------------+------------+------------+------------+------------+------------+------------+------------+\n",
      "| Linha 1 |          \u001b[31m0\u001b[0m |          \u001b[31m0\u001b[0m |          \u001b[31m0\u001b[0m |          \u001b[31m0\u001b[0m |          \u001b[31m0\u001b[0m |          \u001b[31m0\u001b[0m |          \u001b[31m0\u001b[0m |          \u001b[31m0\u001b[0m |\n",
      "+---------+------------+------------+------------+------------+------------+------------+------------+------------+\n",
      "| Linha 2 |          \u001b[31m0\u001b[0m |          \u001b[31m0\u001b[0m |          \u001b[32m1\u001b[0m |          \u001b[31m0\u001b[0m |          \u001b[31m0\u001b[0m |          \u001b[31m0\u001b[0m |          \u001b[31m0\u001b[0m |          \u001b[31m0\u001b[0m |\n",
      "+---------+------------+------------+------------+------------+------------+------------+------------+------------+\n",
      "| Linha 3 |          \u001b[31m0\u001b[0m |          \u001b[31m0\u001b[0m |          \u001b[31m0\u001b[0m |          \u001b[31m0\u001b[0m |          \u001b[31m0\u001b[0m |          \u001b[31m0\u001b[0m |          \u001b[31m0\u001b[0m |          \u001b[31m0\u001b[0m |\n",
      "+---------+------------+------------+------------+------------+------------+------------+------------+------------+\n",
      "| Linha 4 |          \u001b[31m0\u001b[0m |          \u001b[31m0\u001b[0m |          \u001b[31m0\u001b[0m |          \u001b[31m0\u001b[0m |          \u001b[31m0\u001b[0m |          \u001b[31m0\u001b[0m |          \u001b[31m0\u001b[0m |          \u001b[31m0\u001b[0m |\n",
      "+---------+------------+------------+------------+------------+------------+------------+------------+------------+\n",
      "| Linha 5 |          \u001b[31m0\u001b[0m |          \u001b[31m0\u001b[0m |          \u001b[31m0\u001b[0m |          \u001b[31m0\u001b[0m |          \u001b[31m0\u001b[0m |          \u001b[31m0\u001b[0m |          \u001b[31m0\u001b[0m |          \u001b[31m0\u001b[0m |\n",
      "+---------+------------+------------+------------+------------+------------+------------+------------+------------+\n",
      "| Linha 6 |          \u001b[31m0\u001b[0m |          \u001b[31m0\u001b[0m |          \u001b[31m0\u001b[0m |          \u001b[31m0\u001b[0m |          \u001b[31m0\u001b[0m |          \u001b[31m0\u001b[0m |          \u001b[31m0\u001b[0m |          \u001b[31m0\u001b[0m |\n",
      "+---------+------------+------------+------------+------------+------------+------------+------------+------------+\n",
      "| Linha 7 |          \u001b[31m0\u001b[0m |          \u001b[31m0\u001b[0m |          \u001b[31m0\u001b[0m |          \u001b[31m0\u001b[0m |          \u001b[31m0\u001b[0m |          \u001b[31m0\u001b[0m |          \u001b[31m0\u001b[0m |          \u001b[31m0\u001b[0m |\n",
      "+---------+------------+------------+------------+------------+------------+------------+------------+------------+\n"
     ]
    }
   ],
   "source": [
    "tabuleiro_inicial = inicializa_tabuleiro(2,2)\n",
    "print(\"Estado inicial exemplo 1\")\n",
    "print_tabuleiro(tabuleiro_inicial)"
   ]
  },
  {
   "cell_type": "code",
   "execution_count": 256,
   "metadata": {},
   "outputs": [
    {
     "name": "stdout",
     "output_type": "stream",
     "text": [
      "Estado inicial exemplo 2\n",
      "+---------+------------+------------+------------+------------+------------+------------+------------+------------+\n",
      "|         |   Coluna 0 |   Coluna 1 |   Coluna 2 |   Coluna 3 |   Coluna 4 |   Coluna 5 |   Coluna 6 |   Coluna 7 |\n",
      "+=========+============+============+============+============+============+============+============+============+\n",
      "| Linha 0 |          \u001b[31m0\u001b[0m |          \u001b[31m0\u001b[0m |          \u001b[31m0\u001b[0m |          \u001b[31m0\u001b[0m |          \u001b[31m0\u001b[0m |          \u001b[31m0\u001b[0m |          \u001b[31m0\u001b[0m |          \u001b[31m0\u001b[0m |\n",
      "+---------+------------+------------+------------+------------+------------+------------+------------+------------+\n",
      "| Linha 1 |          \u001b[31m0\u001b[0m |          \u001b[31m0\u001b[0m |          \u001b[31m0\u001b[0m |          \u001b[31m0\u001b[0m |          \u001b[31m0\u001b[0m |          \u001b[31m0\u001b[0m |          \u001b[31m0\u001b[0m |          \u001b[31m0\u001b[0m |\n",
      "+---------+------------+------------+------------+------------+------------+------------+------------+------------+\n",
      "| Linha 2 |          \u001b[31m0\u001b[0m |          \u001b[31m0\u001b[0m |          \u001b[31m0\u001b[0m |          \u001b[31m0\u001b[0m |          \u001b[31m0\u001b[0m |          \u001b[31m0\u001b[0m |          \u001b[31m0\u001b[0m |          \u001b[31m0\u001b[0m |\n",
      "+---------+------------+------------+------------+------------+------------+------------+------------+------------+\n",
      "| Linha 3 |          \u001b[31m0\u001b[0m |          \u001b[31m0\u001b[0m |          \u001b[31m0\u001b[0m |          \u001b[31m0\u001b[0m |          \u001b[31m0\u001b[0m |          \u001b[31m0\u001b[0m |          \u001b[31m0\u001b[0m |          \u001b[31m0\u001b[0m |\n",
      "+---------+------------+------------+------------+------------+------------+------------+------------+------------+\n",
      "| Linha 4 |          \u001b[31m0\u001b[0m |          \u001b[31m0\u001b[0m |          \u001b[31m0\u001b[0m |          \u001b[31m0\u001b[0m |          \u001b[31m0\u001b[0m |          \u001b[31m0\u001b[0m |          \u001b[31m0\u001b[0m |          \u001b[31m0\u001b[0m |\n",
      "+---------+------------+------------+------------+------------+------------+------------+------------+------------+\n",
      "| Linha 5 |          \u001b[31m0\u001b[0m |          \u001b[31m0\u001b[0m |          \u001b[31m0\u001b[0m |          \u001b[31m0\u001b[0m |          \u001b[31m0\u001b[0m |          \u001b[31m0\u001b[0m |          \u001b[32m1\u001b[0m |          \u001b[31m0\u001b[0m |\n",
      "+---------+------------+------------+------------+------------+------------+------------+------------+------------+\n",
      "| Linha 6 |          \u001b[31m0\u001b[0m |          \u001b[31m0\u001b[0m |          \u001b[31m0\u001b[0m |          \u001b[31m0\u001b[0m |          \u001b[31m0\u001b[0m |          \u001b[31m0\u001b[0m |          \u001b[31m0\u001b[0m |          \u001b[31m0\u001b[0m |\n",
      "+---------+------------+------------+------------+------------+------------+------------+------------+------------+\n",
      "| Linha 7 |          \u001b[31m0\u001b[0m |          \u001b[31m0\u001b[0m |          \u001b[31m0\u001b[0m |          \u001b[31m0\u001b[0m |          \u001b[31m0\u001b[0m |          \u001b[31m0\u001b[0m |          \u001b[31m0\u001b[0m |          \u001b[31m0\u001b[0m |\n",
      "+---------+------------+------------+------------+------------+------------+------------+------------+------------+\n"
     ]
    }
   ],
   "source": [
    "tabuleiro_inicial = inicializa_tabuleiro(5,6)\n",
    "print(\"Estado inicial exemplo 2\")\n",
    "print_tabuleiro(tabuleiro_inicial)"
   ]
  },
  {
   "cell_type": "markdown",
   "metadata": {},
   "source": [
    "## <a id=\"estado_objetivo\"></a> Estado Objetivo"
   ]
  },
  {
   "cell_type": "markdown",
   "metadata": {},
   "source": [
    "O estado objetivo é quando o cavalo já tenha passado em todas as casa uma única vez, ficando o tabuleiro da seguinte maneira."
   ]
  },
  {
   "cell_type": "code",
   "execution_count": 257,
   "metadata": {},
   "outputs": [
    {
     "name": "stdout",
     "output_type": "stream",
     "text": [
      "Estado Objetivo\n",
      "+---------+------------+------------+------------+------------+------------+\n",
      "|         |   Coluna 0 |   Coluna 1 |   Coluna 2 |   Coluna 3 |   Coluna 4 |\n",
      "+=========+============+============+============+============+============+\n",
      "| Linha 0 |          \u001b[32m1\u001b[0m |          \u001b[32m6\u001b[0m |         \u001b[32m15\u001b[0m |         \u001b[32m10\u001b[0m |         \u001b[32m21\u001b[0m |\n",
      "+---------+------------+------------+------------+------------+------------+\n",
      "| Linha 1 |         \u001b[32m14\u001b[0m |          \u001b[32m9\u001b[0m |         \u001b[32m20\u001b[0m |          \u001b[32m5\u001b[0m |         \u001b[32m16\u001b[0m |\n",
      "+---------+------------+------------+------------+------------+------------+\n",
      "| Linha 2 |         \u001b[32m19\u001b[0m |          \u001b[32m2\u001b[0m |          \u001b[32m7\u001b[0m |         \u001b[32m22\u001b[0m |         \u001b[32m11\u001b[0m |\n",
      "+---------+------------+------------+------------+------------+------------+\n",
      "| Linha 3 |          \u001b[32m8\u001b[0m |         \u001b[32m13\u001b[0m |         \u001b[32m24\u001b[0m |         \u001b[32m17\u001b[0m |          \u001b[32m4\u001b[0m |\n",
      "+---------+------------+------------+------------+------------+------------+\n",
      "| Linha 4 |         \u001b[32m25\u001b[0m |         \u001b[32m18\u001b[0m |          \u001b[32m3\u001b[0m |         \u001b[32m12\u001b[0m |         \u001b[32m23\u001b[0m |\n",
      "+---------+------------+------------+------------+------------+------------+\n"
     ]
    }
   ],
   "source": [
    "tabuleiro_objetivo = [[1, 6, 15, 10, 21],\n",
    "                      [14, 9, 20, 5, 16],\n",
    "                      [19, 2, 7, 22, 11],\n",
    "                      [8, 13, 24, 17, 4],\n",
    "                      [25, 18, 3, 12, 23]\n",
    "                    ]\n",
    "\n",
    "print(\"Estado Objetivo\")\n",
    "print_tabuleiro(tabuleiro_objetivo)"
   ]
  },
  {
   "cell_type": "markdown",
   "metadata": {},
   "source": [
    "## <a id=\"acoes_disp\"></a> Ações Disponíveis"
   ]
  },
  {
   "cell_type": "markdown",
   "metadata": {},
   "source": [
    "O conjunto de operadores que descreva as ações disponíveis segue as regras do Xadrez, que no caso o cavalo é uma peça que anda em formato de L, duas casas para um lado e depois uma à 90 graus ou uma casa para um lado e as outras duas à 90 graus. O conjunto de todos esses movimentos são encontrados abaixo:"
   ]
  },
  {
   "cell_type": "code",
   "execution_count": 258,
   "metadata": {},
   "outputs": [],
   "source": [
    "conjunto_operadores = [\n",
    "    (2, 1),   # v v >\n",
    "\n",
    "    (2, -1),  # v v <\n",
    "\n",
    "    (-2, 1),  # ^ ^ >\n",
    "\n",
    "    (-2, -1), # ^ ^ <\n",
    "    \n",
    "    (1, 2),   # v > >\n",
    "\n",
    "    (1, -2),  # v < <\n",
    "\n",
    "    (-1, 2),  # ^ > >\n",
    "\n",
    "    (-1, -2)  # ^ < <\n",
    "]"
   ]
  },
  {
   "cell_type": "markdown",
   "metadata": {},
   "source": [
    "Outro fator que limita as ações disponíveis é se a casa de destino ainda não foi visitada, se por algum motivo ela já tenha recebido o cavalo, ela não poderá receber novamente. O problema acaba quando o número de movimentos é igual ao número de casas do tabuleiro.\n",
    "\n",
    "Com essas informações pode-se montar uma função que verifica se o cavalo pode ou não fazer um certo movimento. E quando identificar que ele terminou o problema."
   ]
  },
  {
   "cell_type": "code",
   "execution_count": 259,
   "metadata": {},
   "outputs": [],
   "source": [
    "def movimento_ok(tabuleiro, operador, origem):\n",
    "    linha_destino = origem[0] + operador[0]\n",
    "    coluna_destino = origem[1] + operador[1]\n",
    "    if 0 <= linha_destino < len(tabuleiro) and 0 <= coluna_destino < len(tabuleiro) and tabuleiro[linha_destino][coluna_destino] == 0:\n",
    "        return True\n",
    "    else:\n",
    "        return False\n",
    "\n",
    "\n",
    "def problema_finalizado(numero_movimento,tamanho=8):\n",
    "    return numero_movimento == tamanho*tamanho"
   ]
  },
  {
   "cell_type": "markdown",
   "metadata": {},
   "source": [
    "## <a id=\"modelo_problema\"></a> Modelo do Problema"
   ]
  },
  {
   "cell_type": "markdown",
   "metadata": {},
   "source": [
    "Para resolver o problema do \"Knight's Tour\" utilizaremos a busca em profundidade para explorar todas as possíveis sequências de movimentos do cavalo até encontrar uma solução que cubra todos os quadrados do tabuleiro exatamente uma vez."
   ]
  },
  {
   "cell_type": "code",
   "execution_count": 260,
   "metadata": {},
   "outputs": [],
   "source": [
    "def busca_em_profundidade(linha, coluna, tabuleiro, numero_movimento):\n",
    "    tabuleiro[linha][coluna] = numero_movimento\n",
    "\n",
    "    if problema_finalizado(numero_movimento, len(tabuleiro)):\n",
    "        return True, tabuleiro\n",
    "\n",
    "    for operador in conjunto_operadores:\n",
    "        nova_linha = linha + operador[0]\n",
    "        nova_coluna = coluna + operador[1]\n",
    "\n",
    "        if movimento_ok(tabuleiro, operador, (linha, coluna)) and busca_em_profundidade(nova_linha, nova_coluna, tabuleiro, numero_movimento + 1)[0]:\n",
    "            return True, tabuleiro\n",
    "\n",
    "    tabuleiro[linha][coluna] = 0\n",
    "    return False, tabuleiro\n",
    "\n",
    "def resolver_problema(tamanho=8, linha_inicial=0, coluna_inicial=0):\n",
    "    tabuleiro = inicializa_tabuleiro(linha_inicial, coluna_inicial, tamanho)\n",
    "    solucao, tabuleiro = busca_em_profundidade(linha_inicial, coluna_inicial, tabuleiro, 1)\n",
    "\n",
    "    if not solucao:\n",
    "        print(\"Não há solução possível.\")\n",
    "    else:\n",
    "        print(\"Problema Resolvido!\")\n",
    "        print_tabuleiro(tabuleiro)\n",
    "\n"
   ]
  },
  {
   "cell_type": "markdown",
   "metadata": {},
   "source": [
    "## <a id=\"resultados\"></a> Resultados"
   ]
  },
  {
   "cell_type": "markdown",
   "metadata": {},
   "source": [
    "Com o modelo acima desenvolvido foram executados alguns cenários para validação:\n",
    "\n",
    "\n",
    "### Tabuleiro inteiro 7x7 com início em 0,0"
   ]
  },
  {
   "cell_type": "code",
   "execution_count": 262,
   "metadata": {},
   "outputs": [
    {
     "name": "stdout",
     "output_type": "stream",
     "text": [
      "Problema Resolvido!\n",
      "+---------+------------+------------+------------+------------+------------+------------+------------+\n",
      "|         |   Coluna 0 |   Coluna 1 |   Coluna 2 |   Coluna 3 |   Coluna 4 |   Coluna 5 |   Coluna 6 |\n",
      "+=========+============+============+============+============+============+============+============+\n",
      "| Linha 0 |          \u001b[32m1\u001b[0m |         \u001b[32m28\u001b[0m |         \u001b[32m37\u001b[0m |         \u001b[32m40\u001b[0m |         \u001b[32m25\u001b[0m |         \u001b[32m30\u001b[0m |          \u001b[32m9\u001b[0m |\n",
      "+---------+------------+------------+------------+------------+------------+------------+------------+\n",
      "| Linha 1 |         \u001b[32m38\u001b[0m |         \u001b[32m41\u001b[0m |         \u001b[32m26\u001b[0m |         \u001b[32m29\u001b[0m |         \u001b[32m10\u001b[0m |         \u001b[32m35\u001b[0m |         \u001b[32m24\u001b[0m |\n",
      "+---------+------------+------------+------------+------------+------------+------------+------------+\n",
      "| Linha 2 |         \u001b[32m27\u001b[0m |          \u001b[32m2\u001b[0m |         \u001b[32m39\u001b[0m |         \u001b[32m36\u001b[0m |         \u001b[32m23\u001b[0m |          \u001b[32m8\u001b[0m |         \u001b[32m31\u001b[0m |\n",
      "+---------+------------+------------+------------+------------+------------+------------+------------+\n",
      "| Linha 3 |         \u001b[32m42\u001b[0m |         \u001b[32m19\u001b[0m |         \u001b[32m44\u001b[0m |         \u001b[32m17\u001b[0m |         \u001b[32m32\u001b[0m |         \u001b[32m11\u001b[0m |         \u001b[32m34\u001b[0m |\n",
      "+---------+------------+------------+------------+------------+------------+------------+------------+\n",
      "| Linha 4 |         \u001b[32m45\u001b[0m |         \u001b[32m48\u001b[0m |          \u001b[32m3\u001b[0m |         \u001b[32m22\u001b[0m |          \u001b[32m5\u001b[0m |         \u001b[32m14\u001b[0m |          \u001b[32m7\u001b[0m |\n",
      "+---------+------------+------------+------------+------------+------------+------------+------------+\n",
      "| Linha 5 |         \u001b[32m20\u001b[0m |         \u001b[32m43\u001b[0m |         \u001b[32m18\u001b[0m |         \u001b[32m47\u001b[0m |         \u001b[32m16\u001b[0m |         \u001b[32m33\u001b[0m |         \u001b[32m12\u001b[0m |\n",
      "+---------+------------+------------+------------+------------+------------+------------+------------+\n",
      "| Linha 6 |         \u001b[32m49\u001b[0m |         \u001b[32m46\u001b[0m |         \u001b[32m21\u001b[0m |          \u001b[32m4\u001b[0m |         \u001b[32m13\u001b[0m |          \u001b[32m6\u001b[0m |         \u001b[32m15\u001b[0m |\n",
      "+---------+------------+------------+------------+------------+------------+------------+------------+\n"
     ]
    }
   ],
   "source": [
    "resolver_problema(tamanho=7, linha_inicial=0, coluna_inicial=0)"
   ]
  },
  {
   "cell_type": "markdown",
   "metadata": {},
   "source": [
    "### Tabuleiro 5x5 com início em 2,3"
   ]
  },
  {
   "cell_type": "code",
   "execution_count": 263,
   "metadata": {},
   "outputs": [
    {
     "name": "stdout",
     "output_type": "stream",
     "text": [
      "Não há solução possível.\n"
     ]
    }
   ],
   "source": [
    "resolver_problema(tamanho=5, linha_inicial=2, coluna_inicial=3)"
   ]
  }
 ],
 "metadata": {
  "kernelspec": {
   "display_name": "venv",
   "language": "python",
   "name": "python3"
  },
  "language_info": {
   "codemirror_mode": {
    "name": "ipython",
    "version": 3
   },
   "file_extension": ".py",
   "mimetype": "text/x-python",
   "name": "python",
   "nbconvert_exporter": "python",
   "pygments_lexer": "ipython3",
   "version": "3.11.1"
  }
 },
 "nbformat": 4,
 "nbformat_minor": 2
}
